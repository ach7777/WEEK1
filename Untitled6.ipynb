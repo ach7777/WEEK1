{
  "nbformat": 4,
  "nbformat_minor": 0,
  "metadata": {
    "colab": {
      "provenance": [],
      "authorship_tag": "ABX9TyMV4lJ5IFQg2dUYCNJXcsME",
      "include_colab_link": true
    },
    "kernelspec": {
      "name": "python3",
      "display_name": "Python 3"
    },
    "language_info": {
      "name": "python"
    }
  },
  "cells": [
    {
      "cell_type": "markdown",
      "metadata": {
        "id": "view-in-github",
        "colab_type": "text"
      },
      "source": [
        "<a href=\"https://colab.research.google.com/github/ach7777/cs-course/blob/main/Untitled6.ipynb\" target=\"_parent\"><img src=\"https://colab.research.google.com/assets/colab-badge.svg\" alt=\"Open In Colab\"/></a>"
      ]
    },
    {
      "cell_type": "code",
      "execution_count": 10,
      "metadata": {
        "colab": {
          "base_uri": "https://localhost:8080/"
        },
        "id": "YvENcHggi1Ry",
        "outputId": "20fd1b41-6b31-4ff1-f94d-c22878781cac"
      },
      "outputs": [
        {
          "output_type": "stream",
          "name": "stdout",
          "text": [
            "Benvenuto/a,\n",
            "se vuoi sapere il perimetro di un rettangolo allora sei nel posto giusto!\n",
            "inserisci l'altezza: 9\n",
            "inserisci la base: 9\n",
            "l'area del rettangolo è 81.0\n"
          ]
        }
      ],
      "source": [
        "print(\"Benvenuto/a,\\nse vuoi sapere il perimetro di un rettangolo allora sei nel posto giusto!\")\n",
        "altezza = input(\"inserisci l'altezza: \")\n",
        "altezza=float(altezza)\n",
        "base = input(\"inserisci la base: \")\n",
        "base=float(base)\n",
        "area=float\n",
        "print(\"l'area del rettangolo è\", base*altezza) \n",
        "\n",
        "\n"
      ]
    }
  ]
}